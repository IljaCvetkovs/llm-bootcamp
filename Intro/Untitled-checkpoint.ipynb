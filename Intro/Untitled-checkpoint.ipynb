{
 "cells": [
  {
   "cell_type": "code",
   "execution_count": 19,
   "id": "5b9527cd-9eba-4e0b-ac0b-bd913499fa6f",
   "metadata": {},
   "outputs": [],
   "source": [
    "import os"
   ]
  },
  {
   "cell_type": "code",
   "execution_count": 20,
   "id": "7c638ec2-8001-4d4a-b4ac-85b2bcc2f592",
   "metadata": {},
   "outputs": [],
   "source": [
    "import openai"
   ]
  },
  {
   "cell_type": "code",
   "execution_count": 21,
   "id": "c2c2642e-c428-4c5b-833c-baf9d58dac74",
   "metadata": {},
   "outputs": [],
   "source": [
    "secret = os.environ.get(\"OPENAI_API_KEY\")"
   ]
  },
  {
   "cell_type": "code",
   "execution_count": 22,
   "id": "fbda9561-bb48-4ca9-bc81-f891a2f4f27d",
   "metadata": {},
   "outputs": [],
   "source": [
    "from openai import OpenAI"
   ]
  },
  {
   "cell_type": "code",
   "execution_count": 23,
   "id": "3b39f859-bc62-440c-846d-40d34cfb8ab7",
   "metadata": {},
   "outputs": [],
   "source": [
    "client = OpenAI(api_key=secret)"
   ]
  },
  {
   "cell_type": "code",
   "execution_count": 35,
   "id": "d4cfcaa8-416c-42b1-a8d8-0e1c5acf28bc",
   "metadata": {},
   "outputs": [],
   "source": [
    "respone = client.chat.completions.create(\n",
    "    messages=[{\"role\": \"user\", \"content\": \"is it too late to join\"}],\n",
    "    model=\"gpt-3.5-turbo-0125\")"
   ]
  },
  {
   "cell_type": "code",
   "execution_count": 36,
   "id": "0c83b744-fbe7-493b-b2b2-71938d0f2883",
   "metadata": {},
   "outputs": [
    {
     "data": {
      "text/plain": [
       "\"It's never too late to join something.\""
      ]
     },
     "execution_count": 36,
     "metadata": {},
     "output_type": "execute_result"
    }
   ],
   "source": [
    "respone.choices[0].message.content"
   ]
  },
  {
   "cell_type": "code",
   "execution_count": null,
   "id": "c0ffa58a-1cdf-450a-99e2-a841ef58009d",
   "metadata": {},
   "outputs": [],
   "source": []
  }
 ],
 "metadata": {
  "kernelspec": {
   "display_name": "Python 3 (ipykernel)",
   "language": "python",
   "name": "python3"
  },
  "language_info": {
   "codemirror_mode": {
    "name": "ipython",
    "version": 3
   },
   "file_extension": ".py",
   "mimetype": "text/x-python",
   "name": "python",
   "nbconvert_exporter": "python",
   "pygments_lexer": "ipython3",
   "version": "3.10.13"
  }
 },
 "nbformat": 4,
 "nbformat_minor": 5
}
